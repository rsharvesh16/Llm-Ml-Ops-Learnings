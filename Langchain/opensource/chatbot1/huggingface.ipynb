{
 "cells": [
  {
   "cell_type": "code",
   "execution_count": 12,
   "metadata": {},
   "outputs": [
    {
     "name": "stdout",
     "output_type": "stream",
     "text": [
      "Collecting langchain-community\n",
      "  Downloading langchain_community-0.2.1-py3-none-any.whl (2.1 MB)\n",
      "Requirement already satisfied: PyYAML>=5.3 in d:\\projects\\mllearnings\\llm-ml-ops-learnings\\venv\\lib\\site-packages (from langchain-community) (6.0.1)\n",
      "Requirement already satisfied: langsmith<0.2.0,>=0.1.0 in d:\\projects\\mllearnings\\llm-ml-ops-learnings\\venv\\lib\\site-packages (from langchain-community) (0.1.67)\n",
      "Collecting dataclasses-json<0.7,>=0.5.7\n",
      "  Downloading dataclasses_json-0.6.6-py3-none-any.whl (28 kB)\n",
      "Requirement already satisfied: tenacity<9.0.0,>=8.1.0 in d:\\projects\\mllearnings\\llm-ml-ops-learnings\\venv\\lib\\site-packages (from langchain-community) (8.3.0)\n",
      "Requirement already satisfied: langchain<0.3.0,>=0.2.0 in d:\\projects\\mllearnings\\llm-ml-ops-learnings\\venv\\lib\\site-packages (from langchain-community) (0.2.1)\n",
      "Requirement already satisfied: numpy<2,>=1 in d:\\projects\\mllearnings\\llm-ml-ops-learnings\\venv\\lib\\site-packages (from langchain-community) (1.26.4)\n",
      "Requirement already satisfied: requests<3,>=2 in d:\\projects\\mllearnings\\llm-ml-ops-learnings\\venv\\lib\\site-packages (from langchain-community) (2.32.3)\n",
      "Requirement already satisfied: aiohttp<4.0.0,>=3.8.3 in d:\\projects\\mllearnings\\llm-ml-ops-learnings\\venv\\lib\\site-packages (from langchain-community) (3.9.5)\n",
      "Requirement already satisfied: SQLAlchemy<3,>=1.4 in d:\\projects\\mllearnings\\llm-ml-ops-learnings\\venv\\lib\\site-packages (from langchain-community) (2.0.30)\n",
      "Requirement already satisfied: langchain-core<0.3.0,>=0.2.0 in d:\\projects\\mllearnings\\llm-ml-ops-learnings\\venv\\lib\\site-packages (from langchain-community) (0.2.3)\n",
      "Requirement already satisfied: aiosignal>=1.1.2 in d:\\projects\\mllearnings\\llm-ml-ops-learnings\\venv\\lib\\site-packages (from aiohttp<4.0.0,>=3.8.3->langchain-community) (1.3.1)\n",
      "Requirement already satisfied: frozenlist>=1.1.1 in d:\\projects\\mllearnings\\llm-ml-ops-learnings\\venv\\lib\\site-packages (from aiohttp<4.0.0,>=3.8.3->langchain-community) (1.4.1)\n",
      "Requirement already satisfied: multidict<7.0,>=4.5 in d:\\projects\\mllearnings\\llm-ml-ops-learnings\\venv\\lib\\site-packages (from aiohttp<4.0.0,>=3.8.3->langchain-community) (6.0.5)\n",
      "Requirement already satisfied: async-timeout<5.0,>=4.0 in d:\\projects\\mllearnings\\llm-ml-ops-learnings\\venv\\lib\\site-packages (from aiohttp<4.0.0,>=3.8.3->langchain-community) (4.0.3)\n",
      "Requirement already satisfied: yarl<2.0,>=1.0 in d:\\projects\\mllearnings\\llm-ml-ops-learnings\\venv\\lib\\site-packages (from aiohttp<4.0.0,>=3.8.3->langchain-community) (1.9.4)\n",
      "Requirement already satisfied: attrs>=17.3.0 in d:\\projects\\mllearnings\\llm-ml-ops-learnings\\venv\\lib\\site-packages (from aiohttp<4.0.0,>=3.8.3->langchain-community) (23.2.0)\n",
      "Collecting typing-inspect<1,>=0.4.0\n",
      "  Using cached typing_inspect-0.9.0-py3-none-any.whl (8.8 kB)\n",
      "Collecting marshmallow<4.0.0,>=3.18.0\n",
      "  Downloading marshmallow-3.21.2-py3-none-any.whl (49 kB)\n",
      "Requirement already satisfied: pydantic<3,>=1 in d:\\projects\\mllearnings\\llm-ml-ops-learnings\\venv\\lib\\site-packages (from langchain<0.3.0,>=0.2.0->langchain-community) (2.7.2)\n",
      "Requirement already satisfied: langchain-text-splitters<0.3.0,>=0.2.0 in d:\\projects\\mllearnings\\llm-ml-ops-learnings\\venv\\lib\\site-packages (from langchain<0.3.0,>=0.2.0->langchain-community) (0.2.0)\n",
      "Requirement already satisfied: jsonpatch<2.0,>=1.33 in d:\\projects\\mllearnings\\llm-ml-ops-learnings\\venv\\lib\\site-packages (from langchain-core<0.3.0,>=0.2.0->langchain-community) (1.33)\n",
      "Requirement already satisfied: packaging<24.0,>=23.2 in d:\\projects\\mllearnings\\llm-ml-ops-learnings\\venv\\lib\\site-packages (from langchain-core<0.3.0,>=0.2.0->langchain-community) (23.2)\n",
      "Requirement already satisfied: jsonpointer>=1.9 in d:\\projects\\mllearnings\\llm-ml-ops-learnings\\venv\\lib\\site-packages (from jsonpatch<2.0,>=1.33->langchain-core<0.3.0,>=0.2.0->langchain-community) (2.4)\n",
      "Requirement already satisfied: orjson<4.0.0,>=3.9.14 in d:\\projects\\mllearnings\\llm-ml-ops-learnings\\venv\\lib\\site-packages (from langsmith<0.2.0,>=0.1.0->langchain-community) (3.10.3)\n",
      "Requirement already satisfied: annotated-types>=0.4.0 in d:\\projects\\mllearnings\\llm-ml-ops-learnings\\venv\\lib\\site-packages (from pydantic<3,>=1->langchain<0.3.0,>=0.2.0->langchain-community) (0.7.0)\n",
      "Requirement already satisfied: pydantic-core==2.18.3 in d:\\projects\\mllearnings\\llm-ml-ops-learnings\\venv\\lib\\site-packages (from pydantic<3,>=1->langchain<0.3.0,>=0.2.0->langchain-community) (2.18.3)\n",
      "Requirement already satisfied: typing-extensions>=4.6.1 in d:\\projects\\mllearnings\\llm-ml-ops-learnings\\venv\\lib\\site-packages (from pydantic<3,>=1->langchain<0.3.0,>=0.2.0->langchain-community) (4.12.1)\n",
      "Requirement already satisfied: charset-normalizer<4,>=2 in d:\\projects\\mllearnings\\llm-ml-ops-learnings\\venv\\lib\\site-packages (from requests<3,>=2->langchain-community) (3.3.2)\n",
      "Requirement already satisfied: urllib3<3,>=1.21.1 in d:\\projects\\mllearnings\\llm-ml-ops-learnings\\venv\\lib\\site-packages (from requests<3,>=2->langchain-community) (2.2.1)\n",
      "Requirement already satisfied: certifi>=2017.4.17 in d:\\projects\\mllearnings\\llm-ml-ops-learnings\\venv\\lib\\site-packages (from requests<3,>=2->langchain-community) (2024.6.2)\n",
      "Requirement already satisfied: idna<4,>=2.5 in d:\\projects\\mllearnings\\llm-ml-ops-learnings\\venv\\lib\\site-packages (from requests<3,>=2->langchain-community) (3.7)\n",
      "Requirement already satisfied: greenlet!=0.4.17 in d:\\projects\\mllearnings\\llm-ml-ops-learnings\\venv\\lib\\site-packages (from SQLAlchemy<3,>=1.4->langchain-community) (3.0.3)\n",
      "Collecting mypy-extensions>=0.3.0\n",
      "  Using cached mypy_extensions-1.0.0-py3-none-any.whl (4.7 kB)\n",
      "Installing collected packages: mypy-extensions, typing-inspect, marshmallow, dataclasses-json, langchain-community\n",
      "Successfully installed dataclasses-json-0.6.6 langchain-community-0.2.1 marshmallow-3.21.2 mypy-extensions-1.0.0 typing-inspect-0.9.0\n"
     ]
    },
    {
     "name": "stderr",
     "output_type": "stream",
     "text": [
      "WARNING: You are using pip version 21.2.4; however, version 24.0 is available.\n",
      "You should consider upgrading via the 'D:\\Projects\\mlLearnings\\Llm-Ml-Ops-Learnings\\venv\\Scripts\\python.exe -m pip install --upgrade pip' command.\n"
     ]
    }
   ],
   "source": [
    "!pip install langchain-community"
   ]
  },
  {
   "cell_type": "code",
   "execution_count": 28,
   "metadata": {},
   "outputs": [],
   "source": [
    "from langchain_community.document_loaders import PyPDFLoader\n",
    "from langchain_community.document_loaders import PyPDFDirectoryLoader\n",
    "from langchain_community.vectorstores import FAISS\n",
    "from langchain.text_splitter import RecursiveCharacterTextSplitter\n",
    "from langchain_community.embeddings import HuggingFaceBgeEmbeddings\n",
    "from langchain.prompts import PromptTemplate\n",
    "from langchain.chains import RetrievalQA"
   ]
  },
  {
   "cell_type": "code",
   "execution_count": 29,
   "metadata": {},
   "outputs": [
    {
     "name": "stdout",
     "output_type": "stream",
     "text": [
      "Collecting pypdf"
     ]
    },
    {
     "name": "stderr",
     "output_type": "stream",
     "text": [
      "WARNING: You are using pip version 21.2.4; however, version 24.0 is available.\n",
      "You should consider upgrading via the 'D:\\Projects\\mlLearnings\\Llm-Ml-Ops-Learnings\\venv\\Scripts\\python.exe -m pip install --upgrade pip' command.\n"
     ]
    },
    {
     "name": "stdout",
     "output_type": "stream",
     "text": [
      "\n",
      "  Downloading pypdf-4.2.0-py3-none-any.whl (290 kB)\n",
      "Requirement already satisfied: typing_extensions>=4.0 in d:\\projects\\mllearnings\\llm-ml-ops-learnings\\venv\\lib\\site-packages (from pypdf) (4.12.1)\n",
      "Installing collected packages: pypdf\n",
      "Successfully installed pypdf-4.2.0\n"
     ]
    }
   ],
   "source": [
    "!pip install pypdf"
   ]
  },
  {
   "cell_type": "code",
   "execution_count": 31,
   "metadata": {},
   "outputs": [
    {
     "data": {
      "text/plain": [
       "Document(page_content='Health Insurance Coverage Status and Type \\nby Geography: 2021 and 2022\\nAmerican Community Survey Briefs\\nACSBR-015Issued September 2023Douglas Conway and Breauna Branch\\nINTRODUCTION\\nDemographic shifts as well as economic and govern-\\nment policy changes can affect people’s access to health coverage. For example, between 2021 and 2022, the labor market continued to improve, which may have affected private coverage in the United States \\nduring that time.\\n1 Public policy changes included \\nthe renewal of the Public Health Emergency, which \\nallowed Medicaid enrollees to remain covered under the Continuous Enrollment Provision.\\n2 The American \\nRescue Plan (ARP) enhanced Marketplace premium subsidies for those with incomes above 400 percent of the poverty level as well as for unemployed people.\\n3', metadata={'source': 'us_census\\\\acsbr-015.pdf', 'page': 0})"
      ]
     },
     "execution_count": 31,
     "metadata": {},
     "output_type": "execute_result"
    }
   ],
   "source": [
    "loader = PyPDFDirectoryLoader(\"us_census/\")\n",
    "documents = loader.load()\n",
    "len(documents)\n",
    "text_splitter = RecursiveCharacterTextSplitter(chunk_size=1000, chunk_overlap=200)\n",
    "\n",
    "final_doc = text_splitter.split_documents(documents)\n",
    "final_doc[0]"
   ]
  },
  {
   "cell_type": "code",
   "execution_count": 35,
   "metadata": {},
   "outputs": [
    {
     "data": {
      "text/plain": [
       "316"
      ]
     },
     "execution_count": 35,
     "metadata": {},
     "output_type": "execute_result"
    }
   ],
   "source": [
    "len(final_doc)"
   ]
  },
  {
   "cell_type": "code",
   "execution_count": 38,
   "metadata": {},
   "outputs": [
    {
     "name": "stdout",
     "output_type": "stream",
     "text": [
      "Collecting sentence_transformers"
     ]
    },
    {
     "name": "stderr",
     "output_type": "stream",
     "text": [
      "WARNING: You are using pip version 21.2.4; however, version 24.0 is available.\n",
      "You should consider upgrading via the 'D:\\Projects\\mlLearnings\\Llm-Ml-Ops-Learnings\\venv\\Scripts\\python.exe -m pip install --upgrade pip' command.\n"
     ]
    },
    {
     "name": "stdout",
     "output_type": "stream",
     "text": [
      "\n",
      "  Using cached sentence_transformers-3.0.0-py3-none-any.whl (224 kB)\n",
      "Collecting torch>=1.11.0\n",
      "  Using cached torch-2.3.0-cp39-cp39-win_amd64.whl (159.7 MB)\n",
      "Collecting transformers<5.0.0,>=4.34.0\n",
      "  Using cached transformers-4.41.2-py3-none-any.whl (9.1 MB)\n",
      "Collecting Pillow\n",
      "  Using cached pillow-10.3.0-cp39-cp39-win_amd64.whl (2.5 MB)\n",
      "Collecting huggingface-hub>=0.15.1\n",
      "  Using cached huggingface_hub-0.23.2-py3-none-any.whl (401 kB)\n",
      "Collecting tqdm\n",
      "  Using cached tqdm-4.66.4-py3-none-any.whl (78 kB)\n",
      "Collecting scipy\n",
      "  Using cached scipy-1.13.1-cp39-cp39-win_amd64.whl (46.2 MB)\n",
      "Requirement already satisfied: numpy in d:\\projects\\mllearnings\\llm-ml-ops-learnings\\venv\\lib\\site-packages (from sentence_transformers) (1.26.4)\n",
      "Collecting scikit-learn\n",
      "  Using cached scikit_learn-1.5.0-cp39-cp39-win_amd64.whl (11.0 MB)\n",
      "Requirement already satisfied: packaging>=20.9 in d:\\projects\\mllearnings\\llm-ml-ops-learnings\\venv\\lib\\site-packages (from huggingface-hub>=0.15.1->sentence_transformers) (23.2)\n",
      "Collecting filelock\n",
      "  Using cached filelock-3.14.0-py3-none-any.whl (12 kB)\n",
      "Requirement already satisfied: typing-extensions>=3.7.4.3 in d:\\projects\\mllearnings\\llm-ml-ops-learnings\\venv\\lib\\site-packages (from huggingface-hub>=0.15.1->sentence_transformers) (4.12.1)\n",
      "Requirement already satisfied: pyyaml>=5.1 in d:\\projects\\mllearnings\\llm-ml-ops-learnings\\venv\\lib\\site-packages (from huggingface-hub>=0.15.1->sentence_transformers) (6.0.1)\n",
      "Collecting fsspec>=2023.5.0\n",
      "  Using cached fsspec-2024.6.0-py3-none-any.whl (176 kB)\n",
      "Requirement already satisfied: requests in d:\\projects\\mllearnings\\llm-ml-ops-learnings\\venv\\lib\\site-packages (from huggingface-hub>=0.15.1->sentence_transformers) (2.32.3)\n",
      "Collecting mkl<=2021.4.0,>=2021.1.1\n",
      "  Using cached mkl-2021.4.0-py2.py3-none-win_amd64.whl (228.5 MB)\n",
      "Collecting jinja2\n",
      "  Using cached jinja2-3.1.4-py3-none-any.whl (133 kB)\n",
      "Collecting networkx\n",
      "  Using cached networkx-3.2.1-py3-none-any.whl (1.6 MB)\n",
      "Collecting sympy\n",
      "  Using cached sympy-1.12.1-py3-none-any.whl (5.7 MB)\n",
      "Collecting intel-openmp==2021.*\n",
      "  Using cached intel_openmp-2021.4.0-py2.py3-none-win_amd64.whl (3.5 MB)\n",
      "Collecting tbb==2021.*\n",
      "  Using cached tbb-2021.12.0-py3-none-win_amd64.whl (286 kB)\n",
      "Requirement already satisfied: colorama in d:\\projects\\mllearnings\\llm-ml-ops-learnings\\venv\\lib\\site-packages (from tqdm->sentence_transformers) (0.4.6)\n",
      "Collecting regex!=2019.12.17\n",
      "  Using cached regex-2024.5.15-cp39-cp39-win_amd64.whl (269 kB)\n",
      "Collecting tokenizers<0.20,>=0.19\n",
      "  Using cached tokenizers-0.19.1-cp39-none-win_amd64.whl (2.2 MB)\n",
      "Collecting safetensors>=0.4.1\n",
      "  Using cached safetensors-0.4.3-cp39-none-win_amd64.whl (287 kB)\n",
      "Collecting MarkupSafe>=2.0\n",
      "  Using cached MarkupSafe-2.1.5-cp39-cp39-win_amd64.whl (17 kB)\n",
      "Requirement already satisfied: certifi>=2017.4.17 in d:\\projects\\mllearnings\\llm-ml-ops-learnings\\venv\\lib\\site-packages (from requests->huggingface-hub>=0.15.1->sentence_transformers) (2024.6.2)\n",
      "Requirement already satisfied: idna<4,>=2.5 in d:\\projects\\mllearnings\\llm-ml-ops-learnings\\venv\\lib\\site-packages (from requests->huggingface-hub>=0.15.1->sentence_transformers) (3.7)\n",
      "Requirement already satisfied: charset-normalizer<4,>=2 in d:\\projects\\mllearnings\\llm-ml-ops-learnings\\venv\\lib\\site-packages (from requests->huggingface-hub>=0.15.1->sentence_transformers) (3.3.2)\n",
      "Requirement already satisfied: urllib3<3,>=1.21.1 in d:\\projects\\mllearnings\\llm-ml-ops-learnings\\venv\\lib\\site-packages (from requests->huggingface-hub>=0.15.1->sentence_transformers) (2.2.1)\n",
      "Collecting threadpoolctl>=3.1.0\n",
      "  Using cached threadpoolctl-3.5.0-py3-none-any.whl (18 kB)\n",
      "Collecting joblib>=1.2.0\n",
      "  Using cached joblib-1.4.2-py3-none-any.whl (301 kB)\n",
      "Collecting mpmath<1.4.0,>=1.1.0\n",
      "  Using cached mpmath-1.3.0-py3-none-any.whl (536 kB)\n",
      "Installing collected packages: tqdm, fsspec, filelock, tbb, mpmath, MarkupSafe, intel-openmp, huggingface-hub, tokenizers, threadpoolctl, sympy, scipy, safetensors, regex, networkx, mkl, joblib, jinja2, transformers, torch, scikit-learn, Pillow, sentence-transformers\n",
      "Successfully installed MarkupSafe-2.1.5 Pillow-10.3.0 filelock-3.14.0 fsspec-2024.6.0 huggingface-hub-0.23.2 intel-openmp-2021.4.0 jinja2-3.1.4 joblib-1.4.2 mkl-2021.4.0 mpmath-1.3.0 networkx-3.2.1 regex-2024.5.15 safetensors-0.4.3 scikit-learn-1.5.0 scipy-1.13.1 sentence-transformers-3.0.0 sympy-1.12.1 tbb-2021.12.0 threadpoolctl-3.5.0 tokenizers-0.19.1 torch-2.3.0 tqdm-4.66.4 transformers-4.41.2\n"
     ]
    }
   ],
   "source": [
    "!pip install sentence_transformers"
   ]
  },
  {
   "cell_type": "code",
   "execution_count": 39,
   "metadata": {},
   "outputs": [
    {
     "name": "stderr",
     "output_type": "stream",
     "text": [
      "d:\\Projects\\mlLearnings\\Llm-Ml-Ops-Learnings\\venv\\lib\\site-packages\\sentence_transformers\\cross_encoder\\CrossEncoder.py:11: TqdmWarning: IProgress not found. Please update jupyter and ipywidgets. See https://ipywidgets.readthedocs.io/en/stable/user_install.html\n",
      "  from tqdm.autonotebook import tqdm, trange\n",
      "d:\\Projects\\mlLearnings\\Llm-Ml-Ops-Learnings\\venv\\lib\\site-packages\\huggingface_hub\\file_download.py:157: UserWarning: `huggingface_hub` cache-system uses symlinks by default to efficiently store duplicated files but your machine does not support them in C:\\Users\\My Family\\.cache\\huggingface\\hub\\models--BAAI--bge-small-en-v1.5. Caching files will still work but in a degraded version that might require more space on your disk. This warning can be disabled by setting the `HF_HUB_DISABLE_SYMLINKS_WARNING` environment variable. For more details, see https://huggingface.co/docs/huggingface_hub/how-to-cache#limitations.\n",
      "To support symlinks on Windows, you either need to activate Developer Mode or to run Python as an administrator. In order to see activate developer mode, see this article: https://docs.microsoft.com/en-us/windows/apps/get-started/enable-your-device-for-development\n",
      "  warnings.warn(message)\n",
      "d:\\Projects\\mlLearnings\\Llm-Ml-Ops-Learnings\\venv\\lib\\site-packages\\huggingface_hub\\file_download.py:1132: FutureWarning: `resume_download` is deprecated and will be removed in version 1.0.0. Downloads always resume when possible. If you want to force a new download, use `force_download=True`.\n",
      "  warnings.warn(\n"
     ]
    }
   ],
   "source": [
    "huggingface_embeddings = HuggingFaceBgeEmbeddings(\n",
    "    model_name = \"BAAI/bge-small-en-v1.5\",\n",
    "    model_kwargs={'device':'cpu'},\n",
    "    encode_kwargs = {'normalize_embeddings':True} \n",
    ")"
   ]
  },
  {
   "cell_type": "code",
   "execution_count": 44,
   "metadata": {},
   "outputs": [
    {
     "data": {
      "text/plain": [
       "array([-8.46568495e-02, -1.19099310e-02, -3.37892435e-02,  2.94559207e-02,\n",
       "        5.19159995e-02,  5.73839732e-02, -4.10017520e-02,  2.74268091e-02,\n",
       "       -1.05128177e-01, -1.58056207e-02,  7.94858709e-02,  5.64318746e-02,\n",
       "       -1.31765325e-02, -3.41543853e-02,  5.81604335e-03,  4.72547896e-02,\n",
       "       -1.30746868e-02,  3.12990951e-03, -3.44225764e-02,  3.08406297e-02,\n",
       "       -4.09085974e-02,  3.52737829e-02, -2.43761409e-02, -4.35831882e-02,\n",
       "        2.41503194e-02,  1.31986579e-02, -4.84452443e-03,  1.92347690e-02,\n",
       "       -5.43913022e-02, -1.42735049e-01,  5.15529327e-03,  2.93115675e-02,\n",
       "       -5.60810640e-02, -8.53534322e-03,  3.14141139e-02,  2.76736636e-02,\n",
       "       -2.06188019e-02,  8.24231580e-02,  4.15425301e-02,  5.79655319e-02,\n",
       "       -3.71587239e-02,  6.26160018e-03, -2.41390113e-02, -5.61795151e-03,\n",
       "       -2.51715351e-02,  5.04970131e-03, -2.52801143e-02, -2.91944109e-03,\n",
       "       -8.24046135e-03, -5.69604374e-02,  2.30822731e-02, -5.54221636e-03,\n",
       "        5.11555634e-02,  6.09937683e-02,  6.49766177e-02, -5.38514033e-02,\n",
       "        2.19109841e-02, -2.54194476e-02, -4.49223369e-02,  4.22458798e-02,\n",
       "        4.75252382e-02,  7.23249628e-04, -2.61084527e-01,  9.30173174e-02,\n",
       "        1.13597438e-02,  4.90668938e-02, -1.06287105e-02, -8.08730908e-03,\n",
       "       -1.53562250e-02, -5.33785969e-02, -6.89967126e-02,  4.75178175e-02,\n",
       "       -5.68595901e-02,  9.38642584e-03,  4.24065739e-02,  2.54346598e-02,\n",
       "        9.67096258e-03,  7.90799782e-03,  2.25160979e-02,  1.91007787e-03,\n",
       "        3.06091588e-02,  2.43991595e-02, -1.34115769e-02, -4.77401055e-02,\n",
       "        4.89939675e-02, -9.49416012e-02,  5.62894046e-02, -4.76261117e-02,\n",
       "        2.81447284e-02, -2.54329350e-02, -3.84951197e-02,  1.00939889e-02,\n",
       "        1.90598788e-04,  3.36625464e-02,  1.00181755e-02,  2.83524115e-02,\n",
       "       -2.68965238e-03, -6.96366234e-03, -3.54914591e-02,  3.42758805e-01,\n",
       "       -1.94496419e-02,  1.43988431e-02, -5.68817416e-03,  1.71480905e-02,\n",
       "       -2.88603664e-03, -5.81653118e-02,  6.35160890e-04,  5.17300470e-03,\n",
       "        2.06331238e-02,  1.65708363e-02,  2.15096697e-02, -2.38795895e-02,\n",
       "        2.89275590e-02,  4.67319377e-02, -3.56104821e-02, -1.05079003e-02,\n",
       "        3.70704681e-02,  1.57502722e-02,  9.43095908e-02, -2.50715148e-02,\n",
       "       -9.55964811e-03,  1.78565886e-02, -9.41780210e-03, -4.57858704e-02,\n",
       "        1.82930827e-02,  5.81431761e-02,  4.94311377e-02,  1.46350682e-01,\n",
       "        2.16057636e-02, -3.92896086e-02,  1.03241257e-01, -3.48300152e-02,\n",
       "       -6.61871722e-03,  7.07987836e-03,  9.26969573e-04,  4.49867174e-03,\n",
       "       -2.89777629e-02,  4.02419083e-02, -5.23188617e-03,  4.59961966e-02,\n",
       "        4.23971796e-03, -4.83793486e-03, -3.23238596e-03, -1.41072869e-01,\n",
       "       -3.76811437e-02,  1.83623910e-01, -2.96609700e-02,  4.90660295e-02,\n",
       "        3.90551910e-02, -1.57757569e-02, -3.86351384e-02,  4.65631038e-02,\n",
       "       -2.43485905e-02,  3.57694998e-02, -3.54947373e-02,  2.36265715e-02,\n",
       "       -3.41991254e-04,  3.11703756e-02, -2.39356477e-02, -5.94757646e-02,\n",
       "        6.06259406e-02, -3.81902158e-02, -7.04255104e-02,  1.42479492e-02,\n",
       "        3.34432237e-02, -3.85255292e-02, -1.71951521e-02, -7.12288991e-02,\n",
       "        2.64976285e-02,  1.09495623e-02,  1.32650575e-02,  3.89528126e-02,\n",
       "        1.60355438e-02, -3.17630172e-02,  1.02013692e-01,  2.92912088e-02,\n",
       "       -2.29205396e-02, -8.38055462e-03, -1.72172915e-02, -6.78820610e-02,\n",
       "        5.39415097e-03, -2.32347101e-02, -6.07407168e-02, -3.86576019e-02,\n",
       "       -1.54306442e-02, -3.84983495e-02, -5.02867997e-02,  5.04235402e-02,\n",
       "        4.94898111e-02, -1.41083235e-02, -2.98144948e-03,  9.76480733e-05,\n",
       "       -6.59190267e-02,  3.01006772e-02, -5.46590833e-04, -1.64787825e-02,\n",
       "       -5.21614552e-02, -3.30227450e-03,  4.75748219e-02, -3.40808630e-02,\n",
       "       -2.98659876e-02,  2.75014639e-02,  5.90204541e-03, -2.64042360e-03,\n",
       "       -1.61242876e-02,  2.05222294e-02,  1.21104745e-02, -5.49782440e-02,\n",
       "        5.10389172e-02, -7.92089012e-03,  7.25204498e-03,  3.51751335e-02,\n",
       "        3.66276987e-02,  5.67734009e-04,  2.60788780e-02,  2.50971206e-02,\n",
       "        1.14481123e-02, -2.54925154e-02,  1.96417738e-02,  2.84220222e-02,\n",
       "        2.82554179e-02,  6.57489747e-02,  9.26553980e-02, -2.68629700e-01,\n",
       "       -8.90559983e-04,  3.16919456e-03,  5.08355442e-03, -6.42101318e-02,\n",
       "       -4.56614792e-02, -4.62259315e-02,  3.60924676e-02,  8.29055626e-03,\n",
       "        8.92349407e-02,  5.68022020e-02,  6.91059278e-03, -1.08684292e-02,\n",
       "        9.36060399e-02,  1.03680836e-02, -8.60929936e-02,  1.77331995e-02,\n",
       "       -2.00802702e-02, -1.85124595e-02,  5.62447472e-04, -9.38335620e-03,\n",
       "        7.76060391e-03, -5.37273660e-02, -2.30028108e-02,  7.48890713e-02,\n",
       "       -1.29693085e-02,  6.53717071e-02, -4.24983092e-02, -7.10293576e-02,\n",
       "       -1.56803261e-02, -6.23028465e-02,  5.36034219e-02, -6.53211912e-03,\n",
       "       -1.15985520e-01,  6.70967996e-02,  1.93366874e-02, -6.67827800e-02,\n",
       "       -2.01753550e-03, -6.27636835e-02, -2.95004901e-02, -2.71986518e-02,\n",
       "        4.49796766e-02, -6.61587343e-02,  2.13750936e-02, -2.94077955e-02,\n",
       "       -5.71503565e-02,  4.05282490e-02,  7.11039528e-02, -6.80165514e-02,\n",
       "        2.11908743e-02,  1.30515480e-02, -2.91152615e-02, -2.25581788e-02,\n",
       "       -1.60188563e-02,  3.20554189e-02, -5.89460433e-02, -2.97131892e-02,\n",
       "        3.42681631e-02, -1.58376191e-02, -9.31770261e-03,  3.59834470e-02,\n",
       "        3.65343853e-03,  4.73319963e-02, -1.06235277e-02, -8.69736820e-03,\n",
       "       -4.38009910e-02,  5.94557915e-03, -2.41493639e-02, -7.79940709e-02,\n",
       "        1.46542350e-02,  1.05614010e-02,  5.45365363e-02, -3.17896716e-02,\n",
       "       -1.26762819e-02,  7.92557467e-03, -1.38133345e-02,  5.01396693e-02,\n",
       "       -7.28574488e-03, -5.23702661e-03, -5.32640889e-02,  4.78208438e-02,\n",
       "       -5.38353473e-02,  1.11437486e-02,  3.96674387e-02, -1.93496533e-02,\n",
       "        9.94825084e-03, -3.53478966e-03,  3.58562404e-03, -9.61501431e-03,\n",
       "        2.15323959e-02, -1.82350427e-02, -2.15188786e-02, -1.38835888e-02,\n",
       "       -1.76698901e-02,  3.37979145e-04, -3.84870160e-04, -2.25800529e-01,\n",
       "        4.51242998e-02,  1.53376805e-02, -1.76967140e-02, -1.42526235e-02,\n",
       "       -7.00282957e-03, -3.13725211e-02,  2.13674619e-03, -9.28346533e-03,\n",
       "       -1.66986976e-02,  4.66264337e-02,  7.71809667e-02,  1.26696989e-01,\n",
       "       -1.83595810e-02, -1.39636947e-02, -1.23303011e-03,  5.93339428e-02,\n",
       "       -1.37461303e-03,  1.98233463e-02, -2.92635858e-02,  4.96656746e-02,\n",
       "       -6.07207082e-02,  1.53544798e-01, -4.67309393e-02,  1.97028890e-02,\n",
       "       -7.67833069e-02, -7.73231359e-03,  3.71618718e-02, -3.00591402e-02,\n",
       "        8.30266159e-03,  2.06259117e-02,  1.97466277e-03,  3.39764208e-02,\n",
       "       -1.70869678e-02,  4.84795906e-02,  1.20782163e-02,  1.24999015e-02,\n",
       "        5.61724417e-02,  9.88546014e-03,  2.13879123e-02, -4.25293669e-02,\n",
       "       -1.94037016e-02,  2.47837920e-02,  1.37260566e-02,  6.41119406e-02,\n",
       "       -2.84480695e-02, -4.64116819e-02, -5.36255240e-02, -6.95604831e-05,\n",
       "        6.45710081e-02, -4.32042463e-04, -1.32470801e-02,  5.85132698e-03,\n",
       "        1.48595804e-02, -5.41847758e-02, -2.02038325e-02, -5.98262735e-02,\n",
       "        3.67028713e-02,  1.43322593e-03, -8.64463765e-03,  2.90671550e-02,\n",
       "        4.38366011e-02, -7.64942765e-02,  1.55717852e-02,  6.65830970e-02])"
      ]
     },
     "execution_count": 44,
     "metadata": {},
     "output_type": "execute_result"
    }
   ],
   "source": [
    "import numpy as np\n",
    "np.array(huggingface_embeddings.embed_query(final_doc[0].page_content))"
   ]
  },
  {
   "cell_type": "code",
   "execution_count": null,
   "metadata": {},
   "outputs": [],
   "source": []
  }
 ],
 "metadata": {
  "kernelspec": {
   "display_name": "venv",
   "language": "python",
   "name": "python3"
  },
  "language_info": {
   "codemirror_mode": {
    "name": "ipython",
    "version": 3
   },
   "file_extension": ".py",
   "mimetype": "text/x-python",
   "name": "python",
   "nbconvert_exporter": "python",
   "pygments_lexer": "ipython3",
   "version": "3.9.10"
  }
 },
 "nbformat": 4,
 "nbformat_minor": 2
}
